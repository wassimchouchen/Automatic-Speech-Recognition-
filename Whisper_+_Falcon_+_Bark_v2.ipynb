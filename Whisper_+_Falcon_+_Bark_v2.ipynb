{
  "nbformat": 4,
  "nbformat_minor": 0,
  "metadata": {
    "colab": {
      "provenance": [],
      "include_colab_link": true
    },
    "kernelspec": {
      "name": "python3",
      "display_name": "Python 3"
    },
    "language_info": {
      "name": "python"
    }
  },
  "cells": [
    {
      "cell_type": "markdown",
      "metadata": {
        "id": "view-in-github",
        "colab_type": "text"
      },
      "source": [
        "<a href=\"https://colab.research.google.com/github/wassimchouchen/Automatic-Speech-Recognition-/blob/main/Whisper_%2B_Falcon_%2B_Bark_v2.ipynb\" target=\"_parent\"><img src=\"https://colab.research.google.com/assets/colab-badge.svg\" alt=\"Open In Colab\"/></a>"
      ]
    },
    {
      "cell_type": "markdown",
      "source": [
        "### Install Dependencies"
      ],
      "metadata": {
        "id": "OGtCfCUmoCkW"
      }
    },
    {
      "cell_type": "code",
      "execution_count": null,
      "metadata": {
        "id": "p068KBHVOnGW",
        "colab": {
          "base_uri": "https://localhost:8080/"
        },
        "outputId": "4f0a1a35-df18-4d6e-e41e-05e970944e3f"
      },
      "outputs": [
        {
          "output_type": "stream",
          "name": "stdout",
          "text": [
            "Collecting GoogleAudio\n",
            "  Downloading GoogleAudio-0.0.3-py3-none-any.whl (3.4 kB)\n",
            "Collecting ffmpeg-python (from GoogleAudio)\n",
            "  Downloading ffmpeg_python-0.2.0-py3-none-any.whl (25 kB)\n",
            "Requirement already satisfied: future in /usr/local/lib/python3.10/dist-packages (from ffmpeg-python->GoogleAudio) (0.18.3)\n",
            "Installing collected packages: ffmpeg-python, GoogleAudio\n",
            "Successfully installed GoogleAudio-0.0.3 ffmpeg-python-0.2.0\n",
            "Collecting monsterapi\n",
            "  Downloading monsterapi-1.0.2-py3-none-any.whl (11 kB)\n",
            "Requirement already satisfied: requests in /usr/local/lib/python3.10/dist-packages (from monsterapi) (2.31.0)\n",
            "Collecting requests-toolbelt (from monsterapi)\n",
            "  Downloading requests_toolbelt-1.0.0-py2.py3-none-any.whl (54 kB)\n",
            "\u001b[2K     \u001b[90m━━━━━━━━━━━━━━━━━━━━━━━━━━━━━━━━━━━━━━━━\u001b[0m \u001b[32m54.5/54.5 kB\u001b[0m \u001b[31m881.7 kB/s\u001b[0m eta \u001b[36m0:00:00\u001b[0m\n",
            "\u001b[?25hRequirement already satisfied: pydantic in /usr/local/lib/python3.10/dist-packages (from monsterapi) (1.10.13)\n",
            "Requirement already satisfied: typing-extensions>=4.2.0 in /usr/local/lib/python3.10/dist-packages (from pydantic->monsterapi) (4.5.0)\n",
            "Requirement already satisfied: charset-normalizer<4,>=2 in /usr/local/lib/python3.10/dist-packages (from requests->monsterapi) (3.3.0)\n",
            "Requirement already satisfied: idna<4,>=2.5 in /usr/local/lib/python3.10/dist-packages (from requests->monsterapi) (3.4)\n",
            "Requirement already satisfied: urllib3<3,>=1.21.1 in /usr/local/lib/python3.10/dist-packages (from requests->monsterapi) (2.0.6)\n",
            "Requirement already satisfied: certifi>=2017.4.17 in /usr/local/lib/python3.10/dist-packages (from requests->monsterapi) (2023.7.22)\n",
            "Installing collected packages: requests-toolbelt, monsterapi\n",
            "Successfully installed monsterapi-1.0.2 requests-toolbelt-1.0.0\n"
          ]
        }
      ],
      "source": [
        "!pip install GoogleAudio\n",
        "!pip install monsterapi\n",
        "\n",
        "from IPython.display import Audio, display, HTML\n",
        "\n",
        "def play_audio_from_json(json_data):\n",
        "    try:\n",
        "        # Extract the audio URL from the JSON data\n",
        "        audio_url = json_data[\"output\"][0]\n",
        "        # Generate HTML to embed an audio player\n",
        "        audio_html = f'<audio controls autoplay><source src=\"{audio_url}\" type=\"audio/mpeg\"></audio>'\n",
        "        # Display the audio player\n",
        "        display(HTML(audio_html))\n",
        "    except KeyError:\n",
        "        print(\"Invalid JSON format. Missing required keys.\")\n",
        "    except Exception as e:\n",
        "        print(f\"An error occurred: {str(e)}\")"
      ]
    },
    {
      "cell_type": "markdown",
      "source": [
        "### Initialize MonsterAPI Client\n",
        "\n",
        "Copy and Paste your MonsterAPI Key before running the cell below. If you don't have a Key then sign up on [MonsterAPI](https://monsterapi.ai/signup)."
      ],
      "metadata": {
        "id": "IweWWF1en5LT"
      }
    },
    {
      "cell_type": "code",
      "source": [
        "# Import necessary libraries\n",
        "import os\n",
        "from monsterapi import client\n",
        "from googleaudio import colabaudio\n",
        "\n",
        "# Set the Monster API key as an environment variable\n",
        "os.environ['MONSTER_API_KEY'] = 'YOUR_MONSTER_API_KEY'\n",
        "# Initialize the Monster API client\n",
        "monster_client = client()"
      ],
      "metadata": {
        "id": "tfJP5rjjn4cg"
      },
      "execution_count": null,
      "outputs": []
    },
    {
      "cell_type": "markdown",
      "source": [
        "### Speak and instruct LLM to perform a task and get an audio response!\n",
        "\n",
        "Record an audio and click on \"press stop\". You can speak an instruction such as:\n",
        "- Write an essay for me on Steve Jobs\n",
        "- Can you explain how quantum mechanics work?\n",
        "- Write an email copy for explaining concepts of large language models\n",
        "\n",
        "\n",
        "Then, just wait for few seconds to get a text response from Falcon 7B and an Audio response from Bark."
      ],
      "metadata": {
        "id": "XFPYmrRgfMxg"
      }
    },
    {
      "cell_type": "code",
      "source": [
        "# Record audio and save it to a file\n",
        "audio_name = 'audio.mp3'\n",
        "audio, sr = colabaudio.get_audio()\n",
        "colabaudio.saveaudio(audio_name, audio, sr)\n",
        "\n",
        "# Transcribe the audio using Monster API's speech to text API\n",
        "transcript = monster_client.generate(model='whisper', data={\"file\": \"/content/audio.mp3\"})\n",
        "transcribed_text = transcript['text']\n",
        "print(f\"Instruction provided by you: {transcribed_text}\")\n",
        "\n",
        "print(\"Processing your request...\")\n",
        "# Send the transcribed text to Monster API's Falcon 7B API to generate a text response\n",
        "response = monster_client.generate(model='falcon-7b-instruct', data={\"prompt\": transcribed_text, \"max_length\": 64})\n",
        "# Print the generated response\n",
        "falcon_output = response['text']\n",
        "print(f\"Output: {falcon_output}\")\n",
        "\n",
        "print(f\"Generating audio response...\")\n",
        "# Send the response text to Monster API's Text to Speech API to generate an audio response\n",
        "response = monster_client.get_response(model='sunoai-bark', data={\"prompt\": falcon_output, 'speaker':'de_speaker_4', 'text_temp':0.3, 'wave_temp':0.3, \"sample_rate\": 27000})\n",
        "audio = monster_client.wait_and_get_result(response['process_id'],timeout=200)\n",
        "print(\"Audio response generated, playing it back now:\")\n",
        "# Play the Generated Audio\n",
        "play_audio_from_json(audio)"
      ],
      "metadata": {
        "colab": {
          "base_uri": "https://localhost:8080/",
          "height": 242
        },
        "id": "2tSV3MlvPL3Y",
        "outputId": "0a8d0c79-b2e5-41fc-c79f-5ef45e5cf204"
      },
      "execution_count": null,
      "outputs": [
        {
          "output_type": "display_data",
          "data": {
            "text/plain": [
              "<IPython.core.display.HTML object>"
            ],
            "text/html": [
              "\n",
              "<script>\n",
              "var my_div = document.createElement(\"DIV\");\n",
              "var my_p = document.createElement(\"P\");\n",
              "var my_btn = document.createElement(\"BUTTON\");\n",
              "var t = document.createTextNode(\"Press to start recording\");\n",
              "\n",
              "my_btn.appendChild(t);\n",
              "//my_p.appendChild(my_btn);\n",
              "my_div.appendChild(my_btn);\n",
              "document.body.appendChild(my_div);\n",
              "\n",
              "var base64data = 0;\n",
              "var reader;\n",
              "var recorder, gumStream;\n",
              "var recordButton = my_btn;\n",
              "\n",
              "var handleSuccess = function(stream) {\n",
              "  gumStream = stream;\n",
              "  var options = {\n",
              "    //bitsPerSecond: 8000, //chrome seems to ignore, always 48k\n",
              "    mimeType : 'audio/webm;codecs=opus'\n",
              "    //mimeType : 'audio/webm;codecs=pcm'\n",
              "  };            \n",
              "  //recorder = new MediaRecorder(stream, options);\n",
              "  recorder = new MediaRecorder(stream);\n",
              "  recorder.ondataavailable = function(e) {            \n",
              "    var url = URL.createObjectURL(e.data);\n",
              "    var preview = document.createElement('audio');\n",
              "    preview.controls = true;\n",
              "    preview.src = url;\n",
              "    document.body.appendChild(preview);\n",
              "\n",
              "    reader = new FileReader();\n",
              "    reader.readAsDataURL(e.data); \n",
              "    reader.onloadend = function() {\n",
              "      base64data = reader.result;\n",
              "      //console.log(\"Inside FileReader:\" + base64data);\n",
              "    }\n",
              "  };\n",
              "  recorder.start();\n",
              "  };\n",
              "\n",
              "recordButton.innerText = \"Recording... press to stop\";\n",
              "\n",
              "navigator.mediaDevices.getUserMedia({audio: true}).then(handleSuccess);\n",
              "\n",
              "\n",
              "function toggleRecording() {\n",
              "  if (recorder && recorder.state == \"recording\") {\n",
              "      recorder.stop();\n",
              "      gumStream.getAudioTracks()[0].stop();\n",
              "      recordButton.innerText = \"Saving the recording... pls wait!\"\n",
              "  }\n",
              "}\n",
              "\n",
              "// https://stackoverflow.com/a/951057\n",
              "function sleep(ms) {\n",
              "  return new Promise(resolve => setTimeout(resolve, ms));\n",
              "}\n",
              "\n",
              "var data = new Promise(resolve=>{\n",
              "//recordButton.addEventListener(\"click\", toggleRecording);\n",
              "recordButton.onclick = ()=>{\n",
              "toggleRecording()\n",
              "\n",
              "sleep(2000).then(() => {\n",
              "  // wait 2000ms for the data to be available...\n",
              "  // ideally this should use something like await...\n",
              "  //console.log(\"Inside data:\" + base64data)\n",
              "  resolve(base64data.toString())\n",
              "\n",
              "});\n",
              "\n",
              "}\n",
              "});\n",
              "      \n",
              "</script>\n"
            ]
          },
          "metadata": {}
        },
        {
          "output_type": "stream",
          "name": "stdout",
          "text": [
            "Instruction provided by you:  What is the largest river in the world?\n",
            "Processing your request...\n",
            "Output:  The largest river in the world is the Amazon River, which runs through South America. It's over 5,000 miles long and can hold up to 90 million cubic miles of water.\n",
            "Generating audio response...\n",
            "Audio response generated, playing it back now:\n"
          ]
        },
        {
          "output_type": "display_data",
          "data": {
            "text/plain": [
              "<IPython.core.display.HTML object>"
            ],
            "text/html": [
              "<audio controls autoplay><source src=\"https://processed-model-result.s3.us-east-2.amazonaws.com/add82909-898a-4d76-8ed5-459b78906278_0.wav\" type=\"audio/mpeg\"></audio>"
            ]
          },
          "metadata": {}
        }
      ]
    },
    {
      "cell_type": "code",
      "source": [],
      "metadata": {
        "id": "r5ke3khbX3c1"
      },
      "execution_count": null,
      "outputs": []
    }
  ]
}